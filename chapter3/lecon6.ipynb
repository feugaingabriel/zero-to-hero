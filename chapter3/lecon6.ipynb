{
 "cells": [
  {
   "cell_type": "markdown",
   "metadata": {},
   "source": [
    "\n",
    "## Les boucles for en Python\n",
    "\n",
    "### 1. Introduction aux boucles for\n",
    "\n",
    "La boucle `for` en Python est utilisée pour itérer sur une séquence (comme une liste, un tuple, un dictionnaire, un ensemble ou une chaîne) ou tout autre objet itérable. Elle permet d'exécuter un bloc de code pour chaque élément de la séquence.\n",
    "\n",
    "### 2. Syntaxe de base\n",
    "\n",
    "La syntaxe générale d'une boucle `for` en Python est la suivante :\n"
   ]
  },
  {
   "cell_type": "code",
   "execution_count": null,
   "metadata": {},
   "outputs": [],
   "source": [
    "\"\"\"\n",
    "    for element in sequence\n",
    "\"\"\""
   ]
  },
  {
   "cell_type": "markdown",
   "metadata": {},
   "source": [
    "### 3. Exemples d'utilisation\n",
    "\n",
    "#### Exemple 1 : Itération sur une liste\n"
   ]
  },
  {
   "cell_type": "code",
   "execution_count": 1,
   "metadata": {},
   "outputs": [
    {
     "name": "stdout",
     "output_type": "stream",
     "text": [
      "banane\n",
      "pasteque\n",
      "orange\n",
      "pomme\n"
     ]
    }
   ],
   "source": [
    "fruits = [\"banane\", \"pasteque\", \"orange\",\"pomme\"]\n",
    "\n",
    "for fruit in fruits:\n",
    "    print(fruit)"
   ]
  },
  {
   "cell_type": "code",
   "execution_count": 2,
   "metadata": {},
   "outputs": [
    {
     "name": "stdout",
     "output_type": "stream",
     "text": [
      "1\n",
      "2\n",
      "3\n",
      "4\n",
      "5\n",
      "6\n",
      "7\n",
      "8\n",
      "9\n",
      "0\n"
     ]
    }
   ],
   "source": [
    "numbers = [1,2,3,4,5,6,7,8,9,0]\n",
    "\n",
    "for number in numbers:\n",
    "    print(number)"
   ]
  },
  {
   "cell_type": "markdown",
   "metadata": {},
   "source": [
    "#### Exemple 2 : Itération sur une chaîne de caractères\n"
   ]
  },
  {
   "cell_type": "code",
   "execution_count": 5,
   "metadata": {},
   "outputs": [
    {
     "name": "stdout",
     "output_type": "stream",
     "text": [
      "P\n",
      "y\n",
      "t\n",
      "h\n",
      "o\n",
      "n\n"
     ]
    }
   ],
   "source": [
    "caracteres  = \"Python\"\n",
    "for caractere in caracteres:\n",
    "    print(caractere)"
   ]
  },
  {
   "cell_type": "markdown",
   "metadata": {},
   "source": [
    "#### Exemple 3 : Utilisation de range()\n"
   ]
  },
  {
   "cell_type": "code",
   "execution_count": 9,
   "metadata": {},
   "outputs": [
    {
     "data": {
      "text/plain": [
       "range(1, 10, 2)"
      ]
     },
     "execution_count": 9,
     "metadata": {},
     "output_type": "execute_result"
    }
   ],
   "source": [
    "\"\"\"\n",
    "    Explication de la fonction range()\n",
    "    \n",
    "    la fonction range en python est une fonction integree qui \n",
    "    genere un sequence de nombre , utilisee pour controller les boucles for\n",
    "\"\"\"\n",
    "'''\n",
    "    range(start, stop, step)\n",
    "    \n",
    "    => start est le premier nbre de la sequence (inclu)\n",
    "    => stop quiest le dernier nbre de la sequence (exclu)\n",
    "    => step qui est l'increment entre chaque nbre (par defaut 1)\n",
    "    \n",
    "'''\n",
    "\n",
    "# range(8) \n",
    "# range(1,3)\n",
    "range(1, 10,2)"
   ]
  },
  {
   "cell_type": "code",
   "execution_count": 11,
   "metadata": {},
   "outputs": [
    {
     "name": "stdout",
     "output_type": "stream",
     "text": [
      "0\n",
      "1\n",
      "2\n",
      "3\n",
      "4\n"
     ]
    }
   ],
   "source": [
    "for i in range(5):\n",
    "    print(i)"
   ]
  },
  {
   "cell_type": "code",
   "execution_count": 16,
   "metadata": {},
   "outputs": [
    {
     "name": "stdout",
     "output_type": "stream",
     "text": [
      "3\n",
      "4\n"
     ]
    }
   ],
   "source": [
    "for i in range(3, 5):\n",
    "    print(i)"
   ]
  },
  {
   "cell_type": "code",
   "execution_count": 18,
   "metadata": {},
   "outputs": [
    {
     "name": "stdout",
     "output_type": "stream",
     "text": [
      "1\n",
      "3\n",
      "5\n",
      "7\n",
      "9\n"
     ]
    }
   ],
   "source": [
    "for i in range(1, 10,2):\n",
    "    print(i)"
   ]
  },
  {
   "cell_type": "code",
   "execution_count": 19,
   "metadata": {},
   "outputs": [
    {
     "name": "stdout",
     "output_type": "stream",
     "text": [
      "1\n",
      "4\n",
      "9\n",
      "16\n",
      "25\n"
     ]
    }
   ],
   "source": [
    "\"\"\"\n",
    "    Compréhensions de liste\n",
    "\"\"\"\n",
    "\n",
    "# 2 => 4\n",
    "# 3 => 9\n",
    "# 4 =>16\n",
    "\n",
    "for i in range(1, 6):\n",
    "    result = i**2\n",
    "    print(result)"
   ]
  },
  {
   "cell_type": "code",
   "execution_count": 21,
   "metadata": {},
   "outputs": [
    {
     "name": "stdout",
     "output_type": "stream",
     "text": [
      "[8, 27, 64, 125, 216, 343, 512, 729]\n"
     ]
    }
   ],
   "source": [
    "cube = [x**3 for x in range(2,10)]\n",
    "print(cube)\n"
   ]
  },
  {
   "cell_type": "code",
   "execution_count": 20,
   "metadata": {},
   "outputs": [
    {
     "name": "stdout",
     "output_type": "stream",
     "text": [
      "[1, 4, 9, 16, 25]\n"
     ]
    }
   ],
   "source": [
    "carres = [i**2 for i in range(1,6)]\n",
    "print(carres)"
   ]
  },
  {
   "cell_type": "markdown",
   "metadata": {},
   "source": [
    "### 5. Contrôle de flux dans les boucles for\n"
   ]
  },
  {
   "cell_type": "markdown",
   "metadata": {},
   "source": [
    "#### 5.1 break\n",
    "\n",
    "L'instruction `break` permet de sortir prématurément d'une boucle.\n"
   ]
  },
  {
   "cell_type": "code",
   "execution_count": 24,
   "metadata": {},
   "outputs": [
    {
     "name": "stdout",
     "output_type": "stream",
     "text": [
      "0\n",
      "1\n",
      "2\n",
      "3\n",
      "4\n"
     ]
    }
   ],
   "source": [
    "\n",
    "for i in range(6):\n",
    "    if i==5:\n",
    "        break\n",
    "    print(i)"
   ]
  },
  {
   "cell_type": "markdown",
   "metadata": {},
   "source": [
    "#### 5.2 continue\n",
    "\n",
    "L'instruction `continue` passe à l'itération suivante de la boucle."
   ]
  },
  {
   "cell_type": "code",
   "execution_count": 26,
   "metadata": {},
   "outputs": [
    {
     "name": "stdout",
     "output_type": "stream",
     "text": [
      "0\n",
      "1\n",
      "2\n",
      "4\n",
      "5\n"
     ]
    }
   ],
   "source": [
    "\n",
    "for i in range(6):\n",
    "    if i==3:\n",
    "        continue\n",
    "    print(i)"
   ]
  },
  {
   "cell_type": "markdown",
   "metadata": {},
   "source": [
    "#### 5.3 else\n",
    "\n",
    "La clause `else` dans une boucle `for` est exécutée si la boucle se termine normalement (sans `break`).\n"
   ]
  },
  {
   "cell_type": "code",
   "execution_count": 29,
   "metadata": {},
   "outputs": [
    {
     "name": "stdout",
     "output_type": "stream",
     "text": [
      "0\n",
      "1\n",
      "2\n",
      "3\n",
      "Bouche terminee normalement\n"
     ]
    }
   ],
   "source": [
    "for i in range(4):\n",
    "    print(i)\n",
    "else:\n",
    "    print(\"Bouche terminee normalement\")"
   ]
  },
  {
   "cell_type": "markdown",
   "metadata": {},
   "source": [
    "#### Exercice 1\n",
    "Écrivez un programme qui imprime le motif suivant :\n",
    "```\n",
    "*\n",
    "**\n",
    "***\n",
    "****\n",
    "*****"
   ]
  },
  {
   "cell_type": "code",
   "execution_count": 33,
   "metadata": {},
   "outputs": [
    {
     "name": "stdout",
     "output_type": "stream",
     "text": [
      "*\n",
      "**\n",
      "***\n",
      "****\n",
      "*****\n"
     ]
    }
   ],
   "source": [
    "for i in range(1,6):\n",
    "    print(\"*\"*i)"
   ]
  },
  {
   "cell_type": "markdown",
   "metadata": {},
   "source": []
  },
  {
   "cell_type": "markdown",
   "metadata": {},
   "source": [
    "### Exercice 2 : Somme des nombres pairs\n",
    "\n",
    "Écrivez un programme qui prend une liste de nombres et retourne la somme de tous les nombres pairs présents dans cette liste."
   ]
  },
  {
   "cell_type": "code",
   "execution_count": 42,
   "metadata": {},
   "outputs": [
    {
     "name": "stdout",
     "output_type": "stream",
     "text": [
      "Total =  30\n"
     ]
    }
   ],
   "source": [
    "numbers = [1,2,3,4,5,6,7,8,9,10,11]\n",
    "\n",
    "total  =0\n",
    "\n",
    "for i in numbers:\n",
    "    if i % 2 ==0:\n",
    "        total  = total + i\n",
    "print(\"Total = \", total)\n",
    "        "
   ]
  },
  {
   "cell_type": "markdown",
   "metadata": {},
   "source": [
    "### Exercice 3 : Fréquence des caractères\n",
    "Créez un programme qui prend une chaîne de caractères et retourne un dictionnaire contenant le nombre d'occurrences de chaque caractère dans cette chaîne."
   ]
  },
  {
   "cell_type": "code",
   "execution_count": 51,
   "metadata": {},
   "outputs": [
    {
     "name": "stdout",
     "output_type": "stream",
     "text": [
      "La frequence des caracteres  {'H': 1, 'e': 1, 'l': 3, 'o': 4, ' ': 2, 'W': 1, 'r': 2, 'd': 1, 'b': 1, 'n': 1, 'j': 1, 'u': 1}\n"
     ]
    }
   ],
   "source": [
    "string = \"Hello World bonjour\"\n",
    "\n",
    "char_count = {}\n",
    "\n",
    "for char in string:\n",
    "    if char in char_count:\n",
    "        char_count[char] +=1\n",
    "    else:\n",
    "        char_count[char] =1\n",
    "\n",
    "\n",
    "\n",
    "print(\"La frequence des caracteres \", char_count)"
   ]
  },
  {
   "cell_type": "code",
   "execution_count": 53,
   "metadata": {},
   "outputs": [],
   "source": [
    "def frequence(string:str):\n",
    "    char_count = {}\n",
    "    for char in string:\n",
    "        if char in char_count:\n",
    "            char_count[char] +=1\n",
    "        else:\n",
    "            char_count[char] = 1\n",
    "    print(char_count)\n"
   ]
  },
  {
   "cell_type": "code",
   "execution_count": 54,
   "metadata": {},
   "outputs": [
    {
     "name": "stdout",
     "output_type": "stream",
     "text": [
      "{'B': 1, 'o': 2, 'n': 1, 'j': 1, 'u': 1, 'r': 2, ' ': 2, 'm': 1, 'a': 1, 'c': 1, 'h': 1, 'e': 2, 'i': 1}\n"
     ]
    }
   ],
   "source": [
    "frequence(\"Bonjour ma cherie\")"
   ]
  }
 ],
 "metadata": {
  "kernelspec": {
   "display_name": "env",
   "language": "python",
   "name": "python3"
  },
  "language_info": {
   "codemirror_mode": {
    "name": "ipython",
    "version": 3
   },
   "file_extension": ".py",
   "mimetype": "text/x-python",
   "name": "python",
   "nbconvert_exporter": "python",
   "pygments_lexer": "ipython3",
   "version": "3.12.5"
  }
 },
 "nbformat": 4,
 "nbformat_minor": 2
}
