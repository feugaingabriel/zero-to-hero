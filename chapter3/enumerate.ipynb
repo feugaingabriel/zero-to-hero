{
 "cells": [
  {
   "cell_type": "markdown",
   "metadata": {},
   "source": [
    "## Qu'est-ce que `enumerate()` ?\n",
    "\n",
    "La fonction `enumerate()` est utilisée pour obtenir une séquence d'éléments d'un objet itérable (comme une liste ou un tuple) tout en gardant une trace de l'index de chaque élément. Cela vous permet de parcourir les éléments tout en connaissant leur position.\n",
    "\n",
    "### Pourquoi utiliser `enumerate()` ?\n",
    "\n",
    "- **Lisibilité** : Cela rend le code plus clair et évite d'utiliser des variables séparées pour les indices.\n",
    "- **Pratique** : Vous pouvez facilement obtenir l'index et la valeur en une seule ligne.\n",
    "\n",
    "## Syntaxe de `enumerate()`"
   ]
  },
  {
   "cell_type": "code",
   "execution_count": null,
   "metadata": {},
   "outputs": [],
   "source": [
    "\"\"\"\n",
    "    enumerate(sequence, start) \n",
    "    par defaut le start est a zero\n",
    "\"\"\"\n"
   ]
  },
  {
   "cell_type": "markdown",
   "metadata": {},
   "source": [
    "## Exemples d'utilisation\n",
    "\n",
    "### Exemple 1 : Énumérer une liste"
   ]
  },
  {
   "cell_type": "code",
   "execution_count": 3,
   "metadata": {},
   "outputs": [
    {
     "name": "stdout",
     "output_type": "stream",
     "text": [
      "Index :  0  Fruit :  banane\n",
      "Index :  1  Fruit :  pamplemousse\n",
      "Index :  2  Fruit :  orange\n",
      "Index :  3  Fruit :  pasteque\n",
      "Index :  4  Fruit :  pomme\n"
     ]
    }
   ],
   "source": [
    "fruits = ['banane', 'pamplemousse', 'orange', 'pasteque', 'pomme']\n",
    "\n",
    "for index, fruit in enumerate(fruits):\n",
    "    print(\"Index : \", index, ' Fruit : ', fruit)"
   ]
  },
  {
   "cell_type": "code",
   "execution_count": 5,
   "metadata": {},
   "outputs": [
    {
     "name": "stdout",
     "output_type": "stream",
     "text": [
      "index :  2  nbre :  2\n",
      "index :  3  nbre :  4\n",
      "index :  4  nbre :  7\n",
      "index :  5  nbre :  9\n",
      "index :  6  nbre :  1\n"
     ]
    }
   ],
   "source": [
    "nbres = [2,4,7,9,1]\n",
    "\n",
    "for i , nbre in enumerate(nbres, start=2):\n",
    "    print(\"index : \",i, \" nbre : \", nbre)"
   ]
  },
  {
   "cell_type": "markdown",
   "metadata": {},
   "source": [
    "### Exemple 3 : Utiliser `enumerate()` avec une condition\n"
   ]
  },
  {
   "cell_type": "code",
   "execution_count": 7,
   "metadata": {},
   "outputs": [
    {
     "name": "stdout",
     "output_type": "stream",
     "text": [
      "Index :  0  Nombre :  9\n",
      "Index :  1  Nombre :  45\n",
      "Index :  3  Nombre :  21\n",
      "Index :  4  Nombre :  67\n",
      "Index :  5  Nombre :  91\n",
      "Index :  6  Nombre :  63\n"
     ]
    }
   ],
   "source": [
    "nbres = [9,45,32,21,67,91,63]\n",
    "\n",
    "for index , nbre in enumerate(nbres):\n",
    "    if nbre%2!=0:\n",
    "        print(\"Index : \", index, \" Nombre : \", nbre)"
   ]
  },
  {
   "cell_type": "markdown",
   "metadata": {},
   "source": [
    "## Exercices\n",
    "\n",
    "### Exercice 1 : Énumérer les éléments d'une liste\n",
    "\n",
    "**Consigne :** Écrivez un programme qui prend une liste de nombres et affiche chaque nombre avec son index."
   ]
  },
  {
   "cell_type": "code",
   "execution_count": 8,
   "metadata": {},
   "outputs": [
    {
     "name": "stdout",
     "output_type": "stream",
     "text": [
      "index :  0 Nombre :  90\n",
      "index :  1 Nombre :  9\n",
      "index :  2 Nombre :  87\n",
      "index :  3 Nombre :  76\n",
      "index :  4 Nombre :  43\n",
      "index :  5 Nombre :  56\n",
      "index :  6 Nombre :  78\n",
      "index :  7 Nombre :  76\n"
     ]
    }
   ],
   "source": [
    "numbers = [90,9,87,76,43,56,78,76]\n",
    "\n",
    "for index, number in enumerate(numbers):\n",
    "    print(\"index : \", index, \"Nombre : \", number)"
   ]
  },
  {
   "cell_type": "markdown",
   "metadata": {},
   "source": [
    "### Exercice 2 : Afficher les indices des éléments\n",
    "\n",
    "**Consigne :** Écrivez un programme qui affiche les indices des éléments d'une liste de couleurs."
   ]
  },
  {
   "cell_type": "code",
   "execution_count": 9,
   "metadata": {},
   "outputs": [
    {
     "name": "stdout",
     "output_type": "stream",
     "text": [
      "Index :  1  Color :  red\n",
      "Index :  2  Color :  blue\n",
      "Index :  3  Color :  green\n",
      "Index :  4  Color :  gray\n",
      "Index :  5  Color :  black\n",
      "Index :  6  Color :  white\n"
     ]
    }
   ],
   "source": [
    "colors = ['red', 'blue', 'green', 'gray', 'black','white']\n",
    "for index , color in enumerate(colors, start=1):\n",
    "    print(\"Index : \", index, \" Color : \", color)"
   ]
  },
  {
   "cell_type": "markdown",
   "metadata": {},
   "source": [
    "### Exercice 3 : Indices pairs\n",
    "\n",
    "**Consigne :** Écrivez un programme qui affiche uniquement les éléments d'une liste de fruits aux indices pairs.\n"
   ]
  },
  {
   "cell_type": "code",
   "execution_count": 10,
   "metadata": {},
   "outputs": [
    {
     "name": "stdout",
     "output_type": "stream",
     "text": [
      "Index :  0  Fruit  banane\n",
      "Index :  2  Fruit  orange\n",
      "Index :  4  Fruit  pomme\n"
     ]
    }
   ],
   "source": [
    "fruits = ['banane', 'pamplemousse', 'orange', 'pasteque', 'pomme']\n",
    "for index, fruit in enumerate(fruits):\n",
    "    if index%2 ==0:\n",
    "        print(\"Index : \",index, \" Fruit \", fruit)"
   ]
  },
  {
   "cell_type": "markdown",
   "metadata": {},
   "source": [
    "## Conclusion\n",
    "\n",
    "La fonction `enumerate()` est un outil puissant et pratique en Python qui vous permet de parcourir des listes tout en gardant une trace des indices. En utilisant `enumerate()`, vous pouvez écrire un code plus propre et plus lisible."
   ]
  }
 ],
 "metadata": {
  "kernelspec": {
   "display_name": "env",
   "language": "python",
   "name": "python3"
  },
  "language_info": {
   "codemirror_mode": {
    "name": "ipython",
    "version": 3
   },
   "file_extension": ".py",
   "mimetype": "text/x-python",
   "name": "python",
   "nbconvert_exporter": "python",
   "pygments_lexer": "ipython3",
   "version": "3.12.5"
  }
 },
 "nbformat": 4,
 "nbformat_minor": 2
}
