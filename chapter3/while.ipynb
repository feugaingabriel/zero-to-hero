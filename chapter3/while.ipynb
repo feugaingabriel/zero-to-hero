{
 "cells": [
  {
   "cell_type": "markdown",
   "metadata": {},
   "source": [
    "La boucle `while` en Python est un outil essentiel qui permet d'exécuter un bloc de code tant qu'une condition spécifiée est vraie. Cette structure est particulièrement utile lorsque le nombre d'itérations n'est pas connu à l'avance, ce qui la distingue de la boucle `for`.\n",
    "\n",
    "## Qu'est-ce qu'une boucle `while` ?\n",
    "\n",
    "La boucle `while` exécute un ensemble d'instructions tant qu'une condition est vraie. Si la condition devient fausse, la boucle s'arrête et le programme continue avec le code qui suit.\n",
    "\n",
    "### Syntaxe de la boucle `while`\n",
    "\n",
    "La syntaxe de base d'une boucle `while` est la suivante :"
   ]
  },
  {
   "cell_type": "code",
   "execution_count": null,
   "metadata": {},
   "outputs": [],
   "source": [
    "\"\"\"\n",
    "    while condiction:\n",
    "       blocs intructions\n",
    "    print()\n",
    "       \n",
    "\"\"\""
   ]
  },
  {
   "cell_type": "markdown",
   "metadata": {},
   "source": [
    "- **condition** : Une expression qui est évaluée avant chaque itération. Si elle est vraie, le bloc d'instructions est exécuté.\n",
    "- Le bloc d'instructions doit être indenté pour indiquer qu'il fait partie de la boucle.\n",
    "\n",
    "## Exemple de boucle `while`\n",
    "\n",
    "Voici un exemple simple qui affiche les nombres de 0 à 4 :"
   ]
  },
  {
   "cell_type": "code",
   "execution_count": 3,
   "metadata": {},
   "outputs": [
    {
     "name": "stdout",
     "output_type": "stream",
     "text": [
      "0\n",
      "1\n",
      "2\n",
      "3\n",
      "4\n"
     ]
    }
   ],
   "source": [
    "x = 0\n",
    "while x<5:\n",
    "    print(x)\n",
    "    x = x +1 # x = 0+1+1+1+1+1"
   ]
  },
  {
   "cell_type": "markdown",
   "metadata": {},
   "source": [
    "## Utilisation de `break` et `continue`\n",
    "\n",
    "### L'instruction `break`\n",
    "\n",
    "L'instruction `break` permet de sortir immédiatement de la boucle, peu importe si la condition est toujours vraie. Voici un exemple :\n"
   ]
  },
  {
   "cell_type": "code",
   "execution_count": 6,
   "metadata": {},
   "outputs": [],
   "source": [
    "x = 0\n",
    "while x<5:\n",
    "    break\n",
    "    print(x)\n",
    "    x = x +1\n"
   ]
  },
  {
   "cell_type": "code",
   "execution_count": 7,
   "metadata": {},
   "outputs": [
    {
     "name": "stdout",
     "output_type": "stream",
     "text": [
      "0\n",
      "1\n",
      "2\n",
      "3\n"
     ]
    }
   ],
   "source": [
    "x = 0\n",
    "while x<7:\n",
    "    if x ==4:\n",
    "        break\n",
    "    print(x)\n",
    "    x = x+1"
   ]
  },
  {
   "cell_type": "code",
   "execution_count": 8,
   "metadata": {},
   "outputs": [
    {
     "name": "stdout",
     "output_type": "stream",
     "text": [
      "0\n",
      "1\n",
      "2\n",
      "3\n"
     ]
    }
   ],
   "source": [
    "x = 0\n",
    "while True:\n",
    "    if x ==4:\n",
    "        break\n",
    "    print(x)\n",
    "    x = x+1"
   ]
  },
  {
   "cell_type": "code",
   "execution_count": null,
   "metadata": {},
   "outputs": [],
   "source": []
  },
  {
   "cell_type": "markdown",
   "metadata": {},
   "source": [
    "### L'instruction `continue`\n",
    "\n",
    "L'instruction `continue` permet de sauter le reste du code dans la boucle pour l'itération actuelle et de passer à l'itération suivante. Exemple :\n"
   ]
  },
  {
   "cell_type": "code",
   "execution_count": 9,
   "metadata": {},
   "outputs": [
    {
     "name": "stdout",
     "output_type": "stream",
     "text": [
      "1\n",
      "2\n",
      "4\n",
      "5\n"
     ]
    }
   ],
   "source": [
    "i = 0\n",
    "while i < 5:\n",
    "    i += 1 # 5\n",
    "    if i == 3:\n",
    "        continue  # Saute l'affichage de 3\n",
    "    print(i)\n",
    "    "
   ]
  },
  {
   "cell_type": "markdown",
   "metadata": {},
   "source": [
    "## Exercices\n",
    "\n",
    "### Exercice 1 : Compter jusqu'à 10\n",
    "\n",
    "**Consigne :** Écrivez un programme qui affiche les nombres de 1 à 10 en utilisant une boucle `while`.\n"
   ]
  },
  {
   "cell_type": "code",
   "execution_count": 12,
   "metadata": {},
   "outputs": [
    {
     "name": "stdout",
     "output_type": "stream",
     "text": [
      "1\n",
      "2\n",
      "3\n",
      "4\n",
      "5\n",
      "6\n",
      "7\n",
      "8\n",
      "9\n",
      "10\n"
     ]
    }
   ],
   "source": [
    "x = 1\n",
    "while x<=10:\n",
    "    \n",
    "    print(x)\n",
    "    \n",
    "    x = x+1"
   ]
  },
  {
   "cell_type": "markdown",
   "metadata": {},
   "source": [
    "### Exercice 2 : Somme des nombres\n",
    "\n",
    "**Consigne :** Écrivez un programme qui demande à l'utilisateur d'entrer des nombres jusqu'à ce qu'il entre 0, puis affiche la somme de ces nombres.\n"
   ]
  },
  {
   "cell_type": "code",
   "execution_count": 17,
   "metadata": {},
   "outputs": [
    {
     "ename": "IndentationError",
     "evalue": "unexpected indent (2569798144.py, line 2)",
     "output_type": "error",
     "traceback": [
      "\u001b[1;36m  Cell \u001b[1;32mIn[17], line 2\u001b[1;36m\u001b[0m\n\u001b[1;33m    Som=0\u001b[0m\n\u001b[1;37m    ^\u001b[0m\n\u001b[1;31mIndentationError\u001b[0m\u001b[1;31m:\u001b[0m unexpected indent\n"
     ]
    }
   ],
   "source": [
    "x=0\n",
    "Som=0\n",
    "while x !=0:\n",
    "   print(x)\n",
    "   Som +=x\n",
    "    if x==0:\n",
    "        break\n",
    "    print(Som)\n",
    "\n",
    "    "
   ]
  },
  {
   "cell_type": "code",
   "execution_count": 19,
   "metadata": {},
   "outputs": [
    {
     "name": "stdout",
     "output_type": "stream",
     "text": [
      "[5, 8, 9, 3, 0]\n",
      "25\n"
     ]
    }
   ],
   "source": [
    "somme = 0\n",
    "nombre = None\n",
    "# list_number = []\n",
    "\n",
    "while nombre != 0:\n",
    "    nombre = int(input(\"Enter un nomre \"))\n",
    "    # list_number.append(nombre)\n",
    "    \n",
    "    somme  = somme + nombre\n",
    "# print(list_number)\n",
    "print(somme)"
   ]
  },
  {
   "cell_type": "markdown",
   "metadata": {},
   "source": [
    "## TODO\n",
    "\n",
    "### Exercice 3 : Compter les voyelles\n",
    "\n",
    "**Consigne :** Écrivez un programme qui demande à l'utilisateur d'entrer une phrase et compte le nombre de voyelles dans cette phrase.\n"
   ]
  },
  {
   "cell_type": "markdown",
   "metadata": {},
   "source": [
    "Citations:\n",
    "[1] https://www.data-bird.co/blog/boucle-while-python\n",
    "[2] https://courspython.com/boucles.html\n",
    "[3] https://docs.python.org/fr/3/tutorial/datastructures.html\n",
    "[4] https://python.doctor/page-apprendre-listes-list-tableaux-tableaux-liste-array-python-cours-debutant\n",
    "[5] https://www.pythoniste.fr/python/enumerer-des-listes-avec-la-fonction-enumerate-de-python/\n",
    "[6] https://python.doctor/page-apprendre-boucles-python-loop\n",
    "[7] https://www.youtube.com/watch?v=em3F1crPa7Y\n",
    "[8] https://talks.freelancerepublik.com/tout-savoir-fonction-enumerate-python-comment-ca-marche/"
   ]
  },
  {
   "cell_type": "code",
   "execution_count": 6,
   "metadata": {},
   "outputs": [
    {
     "name": "stdout",
     "output_type": "stream",
     "text": [
      "Le nombre de voyelles dans la phrase je pars au marche est: 6\n"
     ]
    }
   ],
   "source": [
    "\n",
    "\n",
    "phrase = input(\"Entrez une phrase: \")\n",
    "\n",
    "voyelles = \"aeiouAEIOU\"\n",
    "compteur = 0\n",
    "index = 0\n",
    "\"\"\"\n",
    "    PYTHON\n",
    "    012345\n",
    "\"\"\"\n",
    "\n",
    "while index < len(phrase):\n",
    "    if phrase[index] in voyelles:\n",
    "        compteur =compteur + 1\n",
    "    index =index + 1\n",
    "\n",
    "print(f\"Le nombre de voyelles dans la phrase {phrase} est: {compteur}\")"
   ]
  }
 ],
 "metadata": {
  "kernelspec": {
   "display_name": "env",
   "language": "python",
   "name": "python3"
  },
  "language_info": {
   "codemirror_mode": {
    "name": "ipython",
    "version": 3
   },
   "file_extension": ".py",
   "mimetype": "text/x-python",
   "name": "python",
   "nbconvert_exporter": "python",
   "pygments_lexer": "ipython3",
   "version": "3.12.5"
  }
 },
 "nbformat": 4,
 "nbformat_minor": 2
}
