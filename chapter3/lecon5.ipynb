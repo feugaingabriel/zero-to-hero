{
 "cells": [
  {
   "cell_type": "markdown",
   "metadata": {},
   "source": [
    "## L'opérateur ternaire en Python\n",
    "\n",
    "### Introduction\n",
    "\n",
    "L'opérateur ternaire en Python est une construction syntaxique qui permet d'écrire une instruction conditionnelle sur une seule ligne. C'est une forme concise d'écrire une instruction if-else simple. Il est particulièrement utile lorsque vous voulez assigner une valeur à une variable basée sur une condition.\n",
    "\n",
    "### Syntaxe\n",
    "\n",
    "La syntaxe générale de l'opérateur ternaire en Python est la suivante :\n"
   ]
  },
  {
   "cell_type": "code",
   "execution_count": null,
   "metadata": {},
   "outputs": [],
   "source": [
    "'''\n",
    "    valeur_si_vraie if condition else valeur_si_faux\n",
    "'''"
   ]
  },
  {
   "cell_type": "markdown",
   "metadata": {},
   "source": [
    "### Fonctionnement détaillé\n",
    "\n",
    "1. La `condition` est évaluée en premier.\n",
    "2. Si la condition est vraie (True), l'expression `valeur_si_vrai` est évaluée et retournée.\n",
    "3. Si la condition est fausse (False), l'expression `valeur_si_faux` est évaluée et retournée.\n",
    "\n",
    "### Avantages\n",
    "\n",
    "1. Concision : permet d'écrire des conditions simples en une seule ligne.\n",
    "2. Lisibilité : pour des conditions simples, peut rendre le code plus lisible.\n",
    "3. Expressivité : utile dans des contextes où une expression est attendue (par exemple, dans une liste en compréhension).\n",
    "\n",
    "### Exemples détaillés\n",
    "\n",
    "#### Exemple 1 : Utilisation basique"
   ]
  },
  {
   "cell_type": "code",
   "execution_count": 2,
   "metadata": {},
   "outputs": [
    {
     "name": "stdout",
     "output_type": "stream",
     "text": [
      "mineur\n"
     ]
    }
   ],
   "source": [
    "age =17\n",
    "status = \"majeur\" if age>= 18 else \"mineur\"\n",
    "print(status)\n"
   ]
  },
  {
   "cell_type": "code",
   "execution_count": 3,
   "metadata": {},
   "outputs": [
    {
     "name": "stdout",
     "output_type": "stream",
     "text": [
      "majeur\n"
     ]
    }
   ],
   "source": [
    "age = 23\n",
    "\n",
    "if age>=18:\n",
    "    print(\"majeur\")\n",
    "else:\n",
    "    print(\"mineur\")"
   ]
  },
  {
   "cell_type": "markdown",
   "metadata": {},
   "source": [
    "#### Exemple 2 : Dans une liste en compréhension\n"
   ]
  },
  {
   "cell_type": "code",
   "execution_count": 11,
   "metadata": {},
   "outputs": [
    {
     "name": "stdout",
     "output_type": "stream",
     "text": [
      "[1, -7, 0, -9, 8, 5]\n"
     ]
    }
   ],
   "source": [
    "numbers = [1,-7,0,-9,8,5]\n",
    "\n",
    "\n",
    "abs_number = [num if num >=0 else num  for num in numbers]\n",
    "print(abs_number)\n"
   ]
  },
  {
   "cell_type": "code",
   "execution_count": 12,
   "metadata": {},
   "outputs": [
    {
     "name": "stdout",
     "output_type": "stream",
     "text": [
      "2\n",
      "8\n",
      "9\n"
     ]
    }
   ],
   "source": [
    "positif_number = [2,-6,-9,8,9]\n",
    "\n",
    "for num in positif_number:\n",
    "    if num> 0:\n",
    "        print(num)"
   ]
  },
  {
   "cell_type": "markdown",
   "metadata": {},
   "source": [
    "### Exemple 3: Chaînage d'opérateurs ternaires"
   ]
  },
  {
   "cell_type": "code",
   "execution_count": 5,
   "metadata": {},
   "outputs": [
    {
     "name": "stdout",
     "output_type": "stream",
     "text": [
      "F\n"
     ]
    }
   ],
   "source": [
    "note =50\n",
    " \n",
    "grade = \"A\" if note>=90  else \"B\" if note>=80 else \"C\" if note>=70 else \"D\" if note>=60 else \"F\"\n",
    "\n",
    "print(grade)"
   ]
  },
  {
   "cell_type": "markdown",
   "metadata": {},
   "source": [
    "### Bonnes pratiques\n",
    "\n",
    "1. Utilisez l'opérateur ternaire pour des conditions simples et courtes.\n",
    "2. Évitez de chaîner trop d'opérateurs ternaires, car cela peut rendre le code difficile à lire.\n",
    "3. Si la condition ou les expressions deviennent complexes, préférez une structure if-else classique.\n",
    "\n",
    "### Exercices\n",
    "\n",
    "#### Exercice 1\n",
    "\n",
    "Écrivez une fonction `est_pair` qui prend un nombre en entrée et retourne \"pair\" si le nombre est pair, et \"impair\" sinon, en utilisant l'opérateur ternaire.\n",
    "\n",
    "#### Exercice 2\n",
    "\n",
    "Créez une liste de nombres de 1 à 10, puis utilisez une liste en compréhension avec un opérateur ternaire pour créer une nouvelle liste où chaque nombre est remplacé par \"fizz\" s'il est divisible par 3, \"buzz\" s'il est divisible par 5, et le nombre lui-même sinon.\n",
    "\n",
    "#### Exercice 3\n",
    "\n",
    "Écrivez une fonction `note_to_letter` qui prend une note sur 100 en entrée et retourne la lettre correspondante (A pour 90-100, B pour 80-89, C pour 70-79, D pour 60-69, F pour moins de 60) en utilisant des opérateurs ternaires chaînés."
   ]
  },
  {
   "cell_type": "markdown",
   "metadata": {},
   "source": [
    "\n",
    "### Conclusion\n",
    "\n",
    "L'opérateur ternaire en Python est un outil puissant pour écrire des conditions simples de manière concise. Il est particulièrement utile dans des situations où vous avez besoin d'une expression conditionnelle courte. Cependant, il est important de l'utiliser judicieusement pour maintenir la lisibilité du code. Pour des conditions plus complexes, il est généralement préférable d'utiliser des structures if-else traditionnelles."
   ]
  }
 ],
 "metadata": {
  "kernelspec": {
   "display_name": "env",
   "language": "python",
   "name": "python3"
  },
  "language_info": {
   "codemirror_mode": {
    "name": "ipython",
    "version": 3
   },
   "file_extension": ".py",
   "mimetype": "text/x-python",
   "name": "python",
   "nbconvert_exporter": "python",
   "pygments_lexer": "ipython3",
   "version": "3.12.5"
  }
 },
 "nbformat": 4,
 "nbformat_minor": 2
}
