{
 "cells": [
  {
   "cell_type": "markdown",
   "metadata": {},
   "source": [
    "## L'opérateur `match` en Python\n",
    "\n",
    "### 1. Introduction\n"
   ]
  },
  {
   "cell_type": "markdown",
   "metadata": {},
   "source": [
    "L'opérateur `match`, introduit dans Python 3.10, permet de faire du **pattern matching** (correspondance de motifs). Il offre une alternative plus puissante et plus lisible aux structures conditionnelles traditionnelles comme `if`/`elif`/`else`, surtout lorsque vous devez traiter des structures de données complexes ou de multiples conditions."
   ]
  },
  {
   "cell_type": "markdown",
   "metadata": {},
   "source": [
    "### 2. Syntaxe de base\n",
    "La syntaxe générale de l'instruction `match` est la suivante :\n"
   ]
  },
  {
   "cell_type": "code",
   "execution_count": null,
   "metadata": {},
   "outputs": [],
   "source": [
    "match variable:\n",
    "    case motif1:\n",
    "        # Code à exécuter si motif1 correspond\n",
    "    case motif2:\n",
    "        # Code à exécuter si motif2 correspond\n",
    "    case motif3:\n",
    "            # code a executer si motif3 correspond\n",
    "    case motif...:\n",
    "        #.....\n",
    "    case _:\n",
    "        # Code à exécuter si aucun motif ne correspond"
   ]
  },
  {
   "cell_type": "markdown",
   "metadata": {},
   "source": [
    "### 3. Exemples d'utilisation\n",
    "\n",
    "#### Exemple 1 : Correspondance simple"
   ]
  },
  {
   "cell_type": "code",
   "execution_count": 3,
   "metadata": {},
   "outputs": [
    {
     "name": "stdout",
     "output_type": "stream",
     "text": [
      "C'est le sixieme jour de la semaine\n"
     ]
    }
   ],
   "source": [
    "jour =\"samedi\"\n",
    "\n",
    "match jour:\n",
    "    case \"lundi\":\n",
    "        print(\"C'est le premier jour de la semaine\")\n",
    "    case \"mardi\":\n",
    "        print(\"C'est le deuxieme jour de la semaine\")\n",
    "    case \"mercredi\":\n",
    "        print(\"C'est le troisieme jour de la semaine\")\n",
    "    case \"jeudi\":\n",
    "        print(\"C'est le quatrieme jour de la semaine\")\n",
    "    case \"vendredi\":\n",
    "        print(\"C'est le cinquieme jour de la semaine\")\n",
    "    case \"samedi\":\n",
    "        print(\"C'est le sixieme jour de la semaine\")\n",
    "    case \"dimanche\":\n",
    "        print(\"C'est le septieme jour de la semaine\")\n",
    "    case _:\n",
    "        print(\"Svp entrer un jour de la semaine\")\n",
    "    "
   ]
  },
  {
   "cell_type": "markdown",
   "metadata": {},
   "source": [
    "#### Exemple 2 : Correspondance avec des types\n"
   ]
  },
  {
   "cell_type": "code",
   "execution_count": 8,
   "metadata": {},
   "outputs": [
    {
     "name": "stdout",
     "output_type": "stream",
     "text": [
      "La donnee ne correspond a aucun operateur\n"
     ]
    }
   ],
   "source": [
    "value = {\"name\":\"developer\"}\n",
    "\n",
    "match value:\n",
    "    case float():\n",
    "        print(\"C'est un nombre decimal\")\n",
    "    case int():\n",
    "        print(\"C'est un entier\")\n",
    "    case str():\n",
    "        print(\"C'est une chaine de caractere\")\n",
    "    case list():\n",
    "        print(\"C'est une liste\")\n",
    "    case _:\n",
    "        print(\"La donnee ne correspond a aucun operateur\")"
   ]
  },
  {
   "cell_type": "markdown",
   "metadata": {},
   "source": [
    "#### Exemple 3 : Utilisation de grades (conditions supplémentaires)\n"
   ]
  },
  {
   "cell_type": "code",
   "execution_count": 18,
   "metadata": {},
   "outputs": [
    {
     "name": "stdout",
     "output_type": "stream",
     "text": [
      "Vous etes un Patriache\n"
     ]
    }
   ],
   "source": [
    "age = 67\n",
    "\n",
    "match age:\n",
    "    case test if test<0:\n",
    "        \n",
    "        print(\"Age invalide\")\n",
    "        \n",
    "    case test if test <18:\n",
    "        \n",
    "        print(\"Vous etes Mineur\")\n",
    "    \n",
    "    case test if test<45:\n",
    "        \n",
    "        print(\"Vous etes un adulte\")\n",
    "    case test if test <65:\n",
    "        \n",
    "        print(\"Tu Es un chef de famille\")\n",
    "    case _:\n",
    "        \n",
    "        print(\"Vous etes un Patriache\")"
   ]
  },
  {
   "cell_type": "markdown",
   "metadata": {},
   "source": [
    "### 4. Avantages de l'opérateur `match`\n",
    "\n",
    "1. **Lisibilité améliorée** : Le code est souvent plus facile à lire et à comprendre que les longues chaînes d'instructions `if`/`elif`/`else`.\n",
    "2. **Correspondance de motifs** : Permet de déstructurer des données complexes (comme des tuples ou des dictionnaires) directement dans le `case`.\n",
    "3. **Conditions supplémentaires** : Vous pouvez ajouter des conditions supplémentaires (guards) pour affiner la correspondance."
   ]
  },
  {
   "cell_type": "markdown",
   "metadata": {},
   "source": [
    "### 5. Exercices\n",
    "\n",
    "#### Exercice 1\n",
    "\n",
    "Déclarez une variable `animal` et assignez-lui une valeur parmi \"chien\", \"chat\", \"oiseau\" ou \"autre\". Utilisez `match` pour imprimer un message différent selon l'animal.\n"
   ]
  },
  {
   "cell_type": "code",
   "execution_count": 22,
   "metadata": {},
   "outputs": [
    {
     "name": "stdout",
     "output_type": "stream",
     "text": [
      "C'est un Oiseau\n"
     ]
    }
   ],
   "source": [
    "animal = \"oiseau\"\n",
    "\n",
    "match animal:\n",
    "    \n",
    "    case \"chien\":\n",
    "        print(\"C'est un chien\")\n",
    "    \n",
    "    case \"chat\":\n",
    "        print(\"C'est un chat\")\n",
    "    \n",
    "    case \"oiseau\":\n",
    "        print(\"C'est un Oiseau\")\n",
    "    \n",
    "    case _:\n",
    "        print(\"Autre\")"
   ]
  },
  {
   "cell_type": "markdown",
   "metadata": {},
   "source": [
    "#### Exercice 2\n",
    "\n",
    "Déclarez une variable `note` avec une valeur entre 0 et 100. Utilisez `match` pour déterminer la lettre correspondante (A, B, C, D, F) et imprimez-la."
   ]
  },
  {
   "cell_type": "code",
   "execution_count": 32,
   "metadata": {},
   "outputs": [
    {
     "name": "stdout",
     "output_type": "stream",
     "text": [
      "Excellent A\n"
     ]
    }
   ],
   "source": [
    "note = 100\n",
    "\n",
    "match note:\n",
    "    case value_test if value_test>=90 and value_test <101:\n",
    "        \n",
    "        print(\"Excellent A\")\n",
    "    \n",
    "    case value_test if value_test >= 80 and value_test<90:\n",
    "        \n",
    "        print(\"Good B\")\n",
    "    \n",
    "    case value_test if value_test >= 70 and value_test<80:\n",
    "        \n",
    "        print(\"Fair C\")\n",
    "    \n",
    "    case value_test if value_test >= 60 and value_test<70:\n",
    "        \n",
    "        print(\"Passing D\")\n",
    "    \n",
    "    case value_test if value_test < 60:\n",
    "        \n",
    "        print(\"Failling F\")\n",
    "    \n",
    "    case _:\n",
    "        \n",
    "        print(\"Note Invalide\")\n",
    "    \n",
    "   \n",
    "    "
   ]
  },
  {
   "cell_type": "markdown",
   "metadata": {},
   "source": [
    "### TODO\n",
    "#### Exercice 3\n",
    "\n",
    "Déclarez une variable `point` qui est un tuple représentant un point en 2D (par exemple, (3, 4)). Utilisez `match` pour déterminer si le point est dans le premier, deuxième, troisième ou quatrième quadrant, ou s'il est sur un axe.\n"
   ]
  },
  {
   "cell_type": "markdown",
   "metadata": {},
   "source": [
    "### Conclusion\n",
    "\n",
    "L'opérateur `match` en Python est un outil puissant pour effectuer des correspondances de motifs de manière claire et concise. Il améliore la lisibilité du code et facilite la gestion des structures de données complexes. En pratiquant avec des exemples et des exercices, vous pourrez mieux comprendre comment l'utiliser efficacement dans vos programmes Python. "
   ]
  },
  {
   "cell_type": "code",
   "execution_count": 1,
   "metadata": {},
   "outputs": [
    {
     "name": "stdout",
     "output_type": "stream",
     "text": [
      "Le point est dans le premier quadrant.\n"
     ]
    }
   ],
   "source": [
    "\n",
    "point = (3,4)\n",
    "match point:\n",
    "    case (x, y) if x > 0 and y > 0:\n",
    "        print(\"Le point est dans le premier quadrant.\")\n",
    "    case (x, y) if x < 0 and y > 0:\n",
    "        print(\"Le point est dans le deuxième quadrant.\")\n",
    "    case (x, y) if x < 0 and y < 0:\n",
    "        print(\"Le point est dans le troisième quadrant.\")\n",
    "    case (x, y) if x > 0 and y < 0:\n",
    "        print(\"Le point est dans le quatrième quadrant.\")\n",
    "    case (x, y) if x == 0 and y != 0:\n",
    "        print(\"Le point est sur l'axe des ordonnées.\")\n",
    "    case (x, y) if y == 0 and x != 0:\n",
    "        print(\"Le point est sur l'axe des abscisses.\")\n",
    "    case (x, y) if x == 0 and y == 0:\n",
    "        print(\"Le point est à l'origine.\")"
   ]
  }
 ],
 "metadata": {
  "kernelspec": {
   "display_name": "env",
   "language": "python",
   "name": "python3"
  },
  "language_info": {
   "codemirror_mode": {
    "name": "ipython",
    "version": 3
   },
   "file_extension": ".py",
   "mimetype": "text/x-python",
   "name": "python",
   "nbconvert_exporter": "python",
   "pygments_lexer": "ipython3",
   "version": "3.12.5"
  }
 },
 "nbformat": 4,
 "nbformat_minor": 2
}
