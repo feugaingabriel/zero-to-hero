{
 "cells": [
  {
   "cell_type": "markdown",
   "metadata": {},
   "source": [
    "## Introduction aux fonctions pour les nombres en Python\n",
    "\n",
    "Python offre de nombreuses fonctions intégrées et des modules pour travailler avec les nombres. Ces fonctions permettent d'effectuer des opérations mathématiques, des conversions et des manipulations sur les différents types de nombres (entiers, flottants, complexes).\n",
    "\n",
    "## Fonctions intégrées de base"
   ]
  },
  {
   "cell_type": "markdown",
   "metadata": {},
   "source": [
    "### 1. abs()\n",
    "\n",
    "La fonction `abs()` retourne la valeur absolue d'un nombre."
   ]
  },
  {
   "cell_type": "code",
   "execution_count": 2,
   "metadata": {},
   "outputs": [
    {
     "name": "stdout",
     "output_type": "stream",
     "text": [
      "-98\n",
      "98\n"
     ]
    }
   ],
   "source": [
    "number = -98\n",
    "print(number)\n",
    "\n",
    "print(abs(number))"
   ]
  },
  {
   "cell_type": "markdown",
   "metadata": {},
   "source": []
  },
  {
   "cell_type": "markdown",
   "metadata": {},
   "source": [
    "### 3. max() et min()\n",
    "\n",
    "Ces fonctions retournent respectivement la valeur maximale et minimale parmi les arguments donnés.\n"
   ]
  },
  {
   "cell_type": "code",
   "execution_count": 6,
   "metadata": {},
   "outputs": [
    {
     "name": "stdout",
     "output_type": "stream",
     "text": [
      "[34, 56, 76, 21, 1, 4]\n",
      "La valeur maximal est 76\n"
     ]
    }
   ],
   "source": [
    "numbers = [34,56,76, 21,1,4]\n",
    "print(numbers)\n",
    "print(f\"La valeur maximale est {max(numbers)}\")"
   ]
  },
  {
   "cell_type": "code",
   "execution_count": 7,
   "metadata": {},
   "outputs": [
    {
     "name": "stdout",
     "output_type": "stream",
     "text": [
      "[34, 56, 76, 21, 1, 4]\n",
      "La valeur minimale est 1\n"
     ]
    }
   ],
   "source": [
    "numbers = [34,56,76, 21,1,4]\n",
    "print(numbers)\n",
    "print(f\"La valeur minimale est {min(numbers)}\")"
   ]
  },
  {
   "cell_type": "markdown",
   "metadata": {},
   "source": [
    "\n",
    "### 2. round()\n",
    "\n",
    "La fonction `round()` arrondit un nombre à l'entier le plus proche ou à un nombre spécifié de décimales."
   ]
  },
  {
   "cell_type": "code",
   "execution_count": 9,
   "metadata": {},
   "outputs": [
    {
     "name": "stdout",
     "output_type": "stream",
     "text": [
      "54.7\n",
      "55\n"
     ]
    }
   ],
   "source": [
    "price = 54.7\n",
    "print(price)\n",
    "\n",
    "print(round(price))"
   ]
  },
  {
   "cell_type": "code",
   "execution_count": 12,
   "metadata": {},
   "outputs": [
    {
     "name": "stdout",
     "output_type": "stream",
     "text": [
      "3.14159\n",
      "3\n"
     ]
    }
   ],
   "source": [
    "pi  = 3.14159\n",
    "print(pi)\n",
    "print(round(pi))"
   ]
  },
  {
   "cell_type": "markdown",
   "metadata": {},
   "source": [
    "## Fonctions du module math\n",
    "\n",
    "Le module `math` fournit des fonctions mathématiques plus avancées[1].\n",
    "\n",
    "### 1. math.sqrt()\n",
    "\n",
    "Calcule la racine carrée d'un nombre."
   ]
  },
  {
   "cell_type": "code",
   "execution_count": 15,
   "metadata": {},
   "outputs": [
    {
     "name": "stdout",
     "output_type": "stream",
     "text": [
      "La racine carree de 81 est 9.0\n"
     ]
    }
   ],
   "source": [
    "import math\n",
    "\n",
    "number = 81\n",
    "\n",
    "print(f\"La racine carree de {number} est {math.sqrt(number)}\")"
   ]
  },
  {
   "cell_type": "markdown",
   "metadata": {},
   "source": [
    "### 2. math.pow()\n",
    "\n",
    "Élève un nombre à une puissance."
   ]
  },
  {
   "cell_type": "code",
   "execution_count": 19,
   "metadata": {},
   "outputs": [
    {
     "name": "stdout",
     "output_type": "stream",
     "text": [
      "La puissance de 9 est 729.0\n"
     ]
    }
   ],
   "source": [
    "import math\n",
    "\n",
    "number = 9\n",
    "print(f\"La puissance de {number} est {math.pow(number,3)}\")"
   ]
  },
  {
   "cell_type": "markdown",
   "metadata": {},
   "source": [
    "### 3. Fonctions trigonométriques\n",
    "\n",
    "`math.sin()`, `math.cos()`, `math.tan()`, etc."
   ]
  },
  {
   "cell_type": "code",
   "execution_count": 21,
   "metadata": {},
   "outputs": [
    {
     "data": {
      "text/plain": [
       "3.141592653589793"
      ]
     },
     "execution_count": 21,
     "metadata": {},
     "output_type": "execute_result"
    }
   ],
   "source": [
    "import math\n",
    "\n",
    "math.pi"
   ]
  },
  {
   "cell_type": "code",
   "execution_count": 27,
   "metadata": {},
   "outputs": [
    {
     "data": {
      "text/plain": [
       "1.3267948966775328e-06"
      ]
     },
     "execution_count": 27,
     "metadata": {},
     "output_type": "execute_result"
    }
   ],
   "source": [
    "math.cos(pi/2)"
   ]
  },
  {
   "cell_type": "code",
   "execution_count": 38,
   "metadata": {},
   "outputs": [
    {
     "data": {
      "text/plain": [
       "6.123233995736766e-17"
      ]
     },
     "execution_count": 38,
     "metadata": {},
     "output_type": "execute_result"
    }
   ],
   "source": [
    "angle = 90\n",
    "\n",
    "angle = math.radians(angle)\n",
    "\n",
    "math.cos(angle)"
   ]
  },
  {
   "cell_type": "code",
   "execution_count": 52,
   "metadata": {},
   "outputs": [
    {
     "data": {
      "text/plain": [
       "362880"
      ]
     },
     "execution_count": 52,
     "metadata": {},
     "output_type": "execute_result"
    }
   ],
   "source": [
    "y = 9\n",
    "math.factorial(y)"
   ]
  },
  {
   "cell_type": "code",
   "execution_count": 45,
   "metadata": {},
   "outputs": [
    {
     "name": "stdout",
     "output_type": "stream",
     "text": [
      "Le cosinus de 90° est 6.123233995736766e-17\n"
     ]
    }
   ],
   "source": [
    "import math\n",
    "\n",
    "# Angle en degrés\n",
    "angle_degres = 90\n",
    "\n",
    "# Conversion de l'angle en radians\n",
    "angle_radians = math.radians(angle_degres)\n",
    "\n",
    "# Calcul du cosinus\n",
    "cosinus = math.cos(angle_radians)\n",
    "\n",
    "print(f\"Le cosinus de {angle_degres}° est {cosinus}\")\n"
   ]
  },
  {
   "cell_type": "markdown",
   "metadata": {},
   "source": [
    "## Conversion de types\n",
    "\n",
    "### 1. int()\n",
    "\n",
    "Convertit un nombre ou une chaîne en entier."
   ]
  },
  {
   "cell_type": "code",
   "execution_count": 48,
   "metadata": {},
   "outputs": [
    {
     "name": "stdout",
     "output_type": "stream",
     "text": [
      "3\n",
      "10\n"
     ]
    }
   ],
   "source": [
    "print(int(3.14))  # Affiche 3\n",
    "print(int(\"10\"))  # Affiche 10"
   ]
  },
  {
   "cell_type": "markdown",
   "metadata": {},
   "source": [
    "### 2. float()\n",
    "\n",
    "Convertit un nombre ou une chaîne en flottant."
   ]
  },
  {
   "cell_type": "code",
   "execution_count": 51,
   "metadata": {},
   "outputs": [
    {
     "name": "stdout",
     "output_type": "stream",
     "text": [
      "5.0\n",
      "3.14\n"
     ]
    }
   ],
   "source": [
    "print(float(5))  # Affiche 5.0\n",
    "print(float(\"3.14\"))  # Affiche 3.14"
   ]
  },
  {
   "cell_type": "markdown",
   "metadata": {},
   "source": [
    "## Conclusion\n",
    "\n",
    "Ces fonctions et exercices couvrent les opérations de base sur les nombres en Python. La maîtrise de ces fonctions est essentielle pour effectuer des calculs et des manipulations numériques efficaces dans vos programmes Python.\n",
    "\n",
    "N'oubliez pas que Python offre de nombreuses autres fonctions et modules pour des opérations mathématiques plus avancées, comme `numpy` pour le calcul scientifique ou `statistics` pour l'analyse statistique.\n"
   ]
  },
  {
   "cell_type": "markdown",
   "metadata": {},
   "source": [
    "Citations:\n",
    "[1] https://www.editions-eni.fr/livre/python-introduction-au-calcul-numerique-9782409024139/nombres-operations-et-fonctions-dans-python\n",
    "[2] https://www.9raytifclick.com/cours/python-les-fonctions/\n",
    "[3] https://perso.esiee.fr/~courivad/python/chapters/02-nombres.html\n",
    "[4] https://www.pierre-giraud.com/python-apprendre-programmer-cours/parametre-argument-fonction/\n",
    "[5] https://dev.to/ericlecodeur/python-manipulation-des-nombres-11lg\n",
    "[6] https://gilles-hunault.leria-info.univ-angers.fr/tuteurs/exercices-python3.pdf\n",
    "[7] https://oseox.fr/python/nombres.html\n",
    "[8] https://www.deltapro.ma/courses/programmation-python/lessons/nombres/"
   ]
  }
 ],
 "metadata": {
  "kernelspec": {
   "display_name": "env",
   "language": "python",
   "name": "python3"
  },
  "language_info": {
   "codemirror_mode": {
    "name": "ipython",
    "version": 3
   },
   "file_extension": ".py",
   "mimetype": "text/x-python",
   "name": "python",
   "nbconvert_exporter": "python",
   "pygments_lexer": "ipython3",
   "version": "3.12.5"
  }
 },
 "nbformat": 4,
 "nbformat_minor": 2
}
